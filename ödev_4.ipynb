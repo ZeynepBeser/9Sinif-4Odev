{
  "nbformat": 4,
  "nbformat_minor": 0,
  "metadata": {
    "colab": {
      "name": "ödev_4.ipynb",
      "provenance": [],
      "authorship_tag": "ABX9TyNP/OAjls4Ij5WA1EqL02C1"
    },
    "kernelspec": {
      "name": "python3",
      "display_name": "Python 3"
    }
  },
  "cells": [
    {
      "cell_type": "markdown",
      "metadata": {
        "id": "e5KJk2xHGbXr",
        "colab_type": "text"
      },
      "source": [
        "**Ödev 1**\n",
        "\n",
        "  Fermat'nın Küçük Teoremi:"
      ]
    },
    {
      "cell_type": "code",
      "metadata": {
        "id": "ku45sCiXGsI9",
        "colab_type": "code",
        "colab": {}
      },
      "source": [
        "print(\"p asal sayı ve n∈N ise\") $p|n^p-n$      "
      ],
      "execution_count": 0,
      "outputs": []
    },
    {
      "cell_type": "markdown",
      "metadata": {
        "id": "Juka0FaUKAQL",
        "colab_type": "text"
      },
      "source": [
        "**Ödev 3**\n"
      ]
    },
    {
      "cell_type": "code",
      "metadata": {
        "id": "GJQItfbiQFZA",
        "colab_type": "code",
        "colab": {}
      },
      "source": [
        "n=[]\n",
        "for i in range (0,999):\n",
        "  if(i%3==0) or (i%5==0):\n",
        "    n1.appened(str(i))\n",
        "print(n1)"
      ],
      "execution_count": 0,
      "outputs": []
    },
    {
      "cell_type": "markdown",
      "metadata": {
        "id": "sEXM-1A3Q2Y-",
        "colab_type": "text"
      },
      "source": [
        "**Ödev 4**"
      ]
    },
    {
      "cell_type": "code",
      "metadata": {
        "id": "8hp2uQY5SGzj",
        "colab_type": "code",
        "colab": {}
      },
      "source": [
        "def fib(n):\n",
        "  a=0\n",
        "  b=1\n",
        "\n",
        "  if n==1:\n",
        "    print(a)\n",
        "  else:\n",
        "    print(a)\n",
        "    print(b)\n",
        "\n",
        "    for i in range(2,n):\n",
        "      c=a+b\n",
        "      a=b\n",
        "      b=c\n",
        "      if c<=4000000:\n",
        "        if c%2==0:\n",
        "          print(c)\n",
        "\n",
        "fib)(4000000)"
      ],
      "execution_count": 0,
      "outputs": []
    }
  ]
}